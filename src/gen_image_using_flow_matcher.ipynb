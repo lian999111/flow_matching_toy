{
 "cells": [
  {
   "cell_type": "code",
   "execution_count": null,
   "id": "094f600f",
   "metadata": {},
   "outputs": [],
   "source": [
    "import matplotlib.pyplot as plt\n",
    "import torch\n",
    "\n",
    "from flow_matching_trainer import FlowMatchingModel"
   ]
  },
  {
   "cell_type": "code",
   "execution_count": null,
   "id": "a0302e1e",
   "metadata": {},
   "outputs": [],
   "source": [
    "flow_match_model = FlowMatchingModel.load_from_checkpoint(\n",
    "    \"/home/arry_iang/workspace/playground/flow_matching_toy/lightning_logs/version_0/checkpoints/epoch=9-step=37500.ckpt\"\n",
    ")\n",
    "flow_match_model.to(\"cuda\")\n",
    "flow_match_model.eval()\n"
   ]
  },
  {
   "cell_type": "code",
   "execution_count": null,
   "id": "baaf7d2f",
   "metadata": {},
   "outputs": [],
   "source": [
    "NUM_SAMPLES = 1\n",
    "NUM_STEPS = 100\n",
    "GUIDANCE_SCALE = 4\n",
    "\n",
    "# 0\tT-shirt/top, 1 Trouser, 2 Pullover, 3 Dress, 4 Coat, 5 Sandal, 6 Shirt, 7 Sneaker, 8 Bag, 9 Ankle boot\n",
    "CONDITION = 9\n",
    "NULL_CONDITION = 10\n",
    "with torch.no_grad():\n",
    "    x = torch.randn((NUM_SAMPLES, 1, 32, 32), device=\"cuda\")\n",
    "    for t in torch.linspace(0, 1, NUM_STEPS, device=\"cuda\"):\n",
    "        t = t.expand((NUM_SAMPLES,))\n",
    "        condition = torch.tensor((CONDITION,), dtype=int, device=\"cuda\")\n",
    "        null_condition = torch.tensor((NULL_CONDITION,), dtype=int, device=\"cuda\")\n",
    "        flow = (1 - GUIDANCE_SCALE) * flow_match_model(x, null_condition, t) + GUIDANCE_SCALE * flow_match_model(x, condition, t)\n",
    "        x += 1 / NUM_STEPS * flow\n",
    "\n",
    "plt.imshow(x.cpu().detach()[0].permute(1, 2, 0))"
   ]
  },
  {
   "cell_type": "code",
   "execution_count": null,
   "id": "fc50b761",
   "metadata": {},
   "outputs": [],
   "source": []
  }
 ],
 "metadata": {
  "kernelspec": {
   "display_name": "flow-matching-toy",
   "language": "python",
   "name": "python3"
  },
  "language_info": {
   "codemirror_mode": {
    "name": "ipython",
    "version": 3
   },
   "file_extension": ".py",
   "mimetype": "text/x-python",
   "name": "python",
   "nbconvert_exporter": "python",
   "pygments_lexer": "ipython3",
   "version": "3.12.3"
  }
 },
 "nbformat": 4,
 "nbformat_minor": 5
}
